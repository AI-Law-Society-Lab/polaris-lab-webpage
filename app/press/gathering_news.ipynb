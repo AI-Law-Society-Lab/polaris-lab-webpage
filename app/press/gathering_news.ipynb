{
 "cells": [
  {
   "cell_type": "markdown",
   "metadata": {},
   "source": [
    "To add new press articles to `press.json`, run the following two cells. Older entries in the JSON won't be touched, but newer entries will be populated and a thumbnail of the article, if it exists, will be saved into the `press_images` folder. Each entry will point to the relative path of the thumbnail. If an article is unable to be downloaded, a message will print and the user should enter the entry into the JSON file manually."
   ]
  },
  {
   "cell_type": "code",
   "execution_count": 1,
   "metadata": {},
   "outputs": [
    {
     "name": "stderr",
     "output_type": "stream",
     "text": [
      "/Users/wfy/opt/anaconda3/lib/python3.9/site-packages/scipy/__init__.py:146: UserWarning: A NumPy version >=1.16.5 and <1.23.0 is required for this version of SciPy (detected version 1.26.4\n",
      "  warnings.warn(f\"A NumPy version >={np_minversion} and <{np_maxversion}\"\n"
     ]
    }
   ],
   "source": [
    "# !pip3 install newspapers4k\n",
    "import newspaper, requests, json\n",
    "\n",
    "def snake_case(string):\n",
    "    return string.lower().replace(\" \", \"_\")\n",
    "\n",
    "def press_image_filepath(file_name):\n",
    "    return f\"../../public/press_images/{file_name}.jpg\"\n",
    "\n",
    "def save_article_image(article):\n",
    "    '''Saves image to press_images folder if it exists. Returns relative path\n",
    "       to image. If image does not exist, returns relative path to default image.\n",
    "    '''\n",
    "    image_response = requests.get(article.top_image)\n",
    "\n",
    "    # Returns default image if no image is found\n",
    "    if image_response.status_code != 200:\n",
    "        return press_image_filepath(\"default_press_image.jpg\")\n",
    "    \n",
    "    # Saves image and returns file path \n",
    "    save_image_filepath = press_image_filepath(snake_case(article.title))\n",
    "    with open(save_image_filepath, \"wb\") as image_file:\n",
    "        image_file.write(image_response.content)\n",
    "    image_file.close()\n",
    "    return save_image_filepath\n",
    "\n",
    "def make_article_dictionary(article):\n",
    "    '''Makes article dictionary that represents how we want to store article info in a JSON'''\n",
    "    return {\n",
    "        \"title\": article.title,\n",
    "        \"publication_source_url\": article.source_url,\n",
    "        \"original_url\": article.original_url,\n",
    "        \"text\": article.text,\n",
    "        \"top_image_relative_path\": save_article_image(article)\n",
    "    }\n",
    "\n",
    "def update_press_articles_in_press_json():\n",
    "    with open(\"articles.txt\", \"r\") as article_file:\n",
    "        article_urls = article_file.read().splitlines()\n",
    "    article_file.close()\n",
    "\n",
    "    with open(\"press.json\", \"r\") as press_json_file:\n",
    "        try:\n",
    "            press_json = json.load(press_json_file)\n",
    "        except json.decoder.JSONDecodeError:\n",
    "            press_json = []\n",
    "        existing_urls = [entry[\"original_url\"] for entry in press_json]\n",
    "    press_json_file.close()\n",
    "\n",
    "    for url in article_urls:\n",
    "        # Check if article has already been saved\n",
    "        if url in existing_urls:\n",
    "            continue\n",
    "        \n",
    "        # Downloads article and notifies user if download fails\n",
    "        try:\n",
    "            article = newspaper.article(url)\n",
    "        except:\n",
    "            print(f\"The url {url} was not downloaded properly.\\n Please edit 'press.json' with its information manually.\")\n",
    "            continue\n",
    "        \n",
    "        # Adds new article to running list\n",
    "        article_dictionary = make_article_dictionary(article)\n",
    "        press_json.append(article_dictionary)\n",
    "\n",
    "    # saves list to press JSON file\n",
    "    with open('press.json', \"w\") as press_json_file:\n",
    "        json.dump(press_json, press_json_file, indent=4)      \n",
    "    press_json_file.close()"
   ]
  },
  {
   "cell_type": "code",
   "execution_count": 3,
   "metadata": {},
   "outputs": [
    {
     "name": "stdout",
     "output_type": "stream",
     "text": [
      "The url https://venturebeat.com/ai/uh-oh-fine-tuning-llms-compromises-their-safety-study-finds/ was not downloaded properly.\n",
      " Please edit 'press.json' with its information manually.\n"
     ]
    }
   ],
   "source": [
    "update_press_articles_in_press_json()"
   ]
  }
 ],
 "metadata": {
  "kernelspec": {
   "display_name": "cs498_venv",
   "language": "python",
   "name": "cs498_venv"
  },
  "language_info": {
   "codemirror_mode": {
    "name": "ipython",
    "version": 3
   },
   "file_extension": ".py",
   "mimetype": "text/x-python",
   "name": "python",
   "nbconvert_exporter": "python",
   "pygments_lexer": "ipython3",
   "version": "3.9.12"
  }
 },
 "nbformat": 4,
 "nbformat_minor": 2
}
