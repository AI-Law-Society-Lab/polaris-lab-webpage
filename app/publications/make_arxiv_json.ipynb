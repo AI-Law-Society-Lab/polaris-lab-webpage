{
 "cells": [
  {
   "cell_type": "markdown",
   "metadata": {},
   "source": [
    "Add the identifier of your arxiv paper to `arxiv_publication_ids.txt` and run `update_arxiv_entries_in_publications_json()`. If you're running code using this notebook, make sure that all functions are defined. Your arxiv indentifier should be the last value in the url of your paper: http://arxiv.org/abs/<<i>identifier>."
   ]
  },
  {
   "cell_type": "code",
   "execution_count": 6,
   "metadata": {},
   "outputs": [],
   "source": [
    "import urllib, urllib.request, xmltodict, json\n",
    "\n",
    "def make_publication_dictionary(publication_info):\n",
    "    '''\n",
    "    Reformats arxiv publication information into our JSON format (returned as python dictionary).\n",
    "    @param publication_info: xml from arxiv parsed into a python dictionary.\n",
    "    @return publication_dictionary: dictionary in expected JSON format.\n",
    "    '''\n",
    "    publication_entry = publication_info[\"feed\"][\"entry\"]\n",
    "    publication_dictionary = {\n",
    "        \"title\": publication_entry[\"title\"],\n",
    "        \"pdf\": publication_entry[\"id\"],\n",
    "        \"authors\": [author[\"name\"] for author in publication_entry[\"author\"]],\n",
    "        \"year\": publication_entry[\"published\"][:4],\n",
    "        \"abstract\": publication_entry[\"summary\"],       # note: escape characters are in here\n",
    "        \"published\": publication_entry[\"published\"],\n",
    "        \"updated\": publication_entry[\"updated\"],\n",
    "        \"publication_venue\": \"\",\n",
    "        \"code\": \"\",\n",
    "        \"site\": \"\",\n",
    "        \"comments\": publication_entry[\"arxiv:comment\"][\"#text\"] if \"arxiv:comment\" in publication_entry else \"\"\n",
    "    }\n",
    "    return publication_dictionary\n",
    "\n",
    "def make_publication_entry(arxiv_id):\n",
    "    '''\n",
    "    Gets publication information from arxiv API and returns as a python dictionary\n",
    "    in the format we want.\n",
    "    @param arxiv_id: arxiv id of the publication\n",
    "    @return publication_as_dictionary: formatted dictionary of just the values we want\n",
    "    '''\n",
    "    url = \"http://export.arxiv.org/api/query?search_query=\" + arxiv_id\n",
    "    arxiv_xml = urllib.request.urlopen(url)\n",
    "    arxiv_data = arxiv_xml.read().decode('utf-8')\n",
    "    publication_info = xmltodict.parse(arxiv_data)\n",
    "    publication_as_dictionary = make_publication_dictionary(publication_info)\n",
    "    return publication_as_dictionary\n",
    "\n",
    "def update_arxiv_entries_in_publications_json():\n",
    "    '''\n",
    "    Goes through all entries in arxiv_publication_ids.txt and adds entries for those that don't already\n",
    "    have corresponding publications in publications.json. Does not change existing entries.\n",
    "    '''\n",
    "    with open(\"arxiv_publication_ids.txt\", \"r\") as arxiv_id_file:\n",
    "        arxiv_ids = arxiv_id_file.read().splitlines()\n",
    "    arxiv_id_file.close()\n",
    "\n",
    "    with open(\"publications.json\", \"r\") as publications_json_file:\n",
    "        try:\n",
    "            publication_json = json.load(publications_json_file)\n",
    "        except json.decoder.JSONDecodeError:\n",
    "            publication_json = []\n",
    "        existing_arxiv_urls = [entry[\"pdf\"] for entry in publication_json]\n",
    "    publications_json_file.close()\n",
    "\n",
    "    # Appends new arxiv entries to our object represenation of the file\n",
    "    for arxiv_id in arxiv_ids:\n",
    "        publication_already_exists = any((arxiv_id in url) for url in existing_arxiv_urls)\n",
    "        if not publication_already_exists:\n",
    "            publication_as_dictionary = make_publication_entry(arxiv_id)\n",
    "            publication_json.append(publication_as_dictionary)\n",
    "    \n",
    "    # Adds new arxiv entries to JSON\n",
    "    with open('publications.json', \"w\") as publications_json_file:\n",
    "        json.dump(publication_json, publications_json_file, indent=4)      \n",
    "    publications_json_file.close()"
   ]
  },
  {
   "cell_type": "code",
   "execution_count": 7,
   "metadata": {},
   "outputs": [],
   "source": [
    "update_arxiv_entries_in_publications_json()"
   ]
  }
 ],
 "metadata": {
  "kernelspec": {
   "display_name": "cs498_venv",
   "language": "python",
   "name": "cs498_venv"
  },
  "language_info": {
   "codemirror_mode": {
    "name": "ipython",
    "version": 3
   },
   "file_extension": ".py",
   "mimetype": "text/x-python",
   "name": "python",
   "nbconvert_exporter": "python",
   "pygments_lexer": "ipython3",
   "version": "3.9.12"
  }
 },
 "nbformat": 4,
 "nbformat_minor": 2
}
