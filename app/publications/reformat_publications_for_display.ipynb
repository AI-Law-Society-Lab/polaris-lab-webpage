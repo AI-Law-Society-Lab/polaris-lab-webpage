{
 "cells": [
  {
   "cell_type": "code",
   "execution_count": 1,
   "metadata": {},
   "outputs": [],
   "source": [
    "import urllib.request, json\n",
    "\n",
    "\n",
    "with open(\"publications.json\", \"r\") as publications_json_file:\n",
    "    try:\n",
    "        publication_json = json.load(publications_json_file)\n",
    "    except json.decoder.JSONDecodeError:\n",
    "        publication_json = []\n",
    "    existing_arxiv_urls = [entry[\"pdf\"] for entry in publication_json]\n",
    "publications_json_file.close()\n",
    "\n",
    "\n",
    "    \n",
    "# Adds new arxiv entries to JSON\n",
    "with open('publications.json', \"w\") as publications_json_file:\n",
    "    json.dump(publication_json, publications_json_file, indent=4)      \n",
    "publications_json_file.close()"
   ]
  }
 ],
 "metadata": {
  "kernelspec": {
   "display_name": "cs498_venv",
   "language": "python",
   "name": "cs498_venv"
  },
  "language_info": {
   "codemirror_mode": {
    "name": "ipython",
    "version": 3
   },
   "file_extension": ".py",
   "mimetype": "text/x-python",
   "name": "python",
   "nbconvert_exporter": "python",
   "pygments_lexer": "ipython3",
   "version": "3.9.12"
  }
 },
 "nbformat": 4,
 "nbformat_minor": 2
}
